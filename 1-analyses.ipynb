{
 "cells": [
  {
   "cell_type": "markdown",
   "metadata": {
    "collapsed": true,
    "jupyter": {
     "outputs_hidden": true
    },
    "pycharm": {
     "name": "#%% md\n"
    }
   },
   "source": "# Analyzing linguistic adaptation in terms of entropy"
  },
  {
   "cell_type": "code",
   "metadata": {
    "collapsed": false,
    "jupyter": {
     "outputs_hidden": false
    }
   },
   "source": [
    "import os\n",
    "import re\n",
    "\n",
    "DATA_PATH = 'data/results'\n",
    "DATA_FILE = 'ceda-results.csv'\n",
    "\n",
    "REPORTING_PATH = 'data/reports'\n",
    "REPORT_NAME = os.path.join(REPORTING_PATH, 'report-{}.csv')\n",
    "MODEL_PERFORMANCE_NAME = os.path.join(REPORTING_PATH, 'model-comparison.csv')\n",
    "\n",
    "lollipop_vis_name = 'lollipop.png'"
   ],
   "outputs": [],
   "execution_count": null
  },
  {
   "cell_type": "markdown",
   "metadata": {
    "collapsed": false,
    "jupyter": {
     "outputs_hidden": false
    }
   },
   "source": [
    "## Main Analyses and Results"
   ]
  },
  {
   "cell_type": "code",
   "metadata": {},
   "source": [
    "import pandas as pd\n",
    "import numpy as np\n",
    "from tqdm import tqdm\n",
    "import statsmodels.formula.api as smf\n",
    "from datetime import datetime as dt\n",
    "\n",
    "df = pd.read_csv(os.path.join(DATA_PATH, DATA_FILE))\n",
    "# df = df.loc[\n",
    "#     (df['nx'] >= 5)\n",
    "#     & (df['ny'] >= 5)\n",
    "#     # & (df['comment_delta_abs'] <= 20)\n",
    "# ] # limit by comment size\n",
    "df.shape"
   ],
   "outputs": [],
   "execution_count": null
  },
  {
   "metadata": {},
   "cell_type": "code",
   "source": "df['mixed_gender'] = ~df['GenderDemoComp'].isin(['Male-Male', 'Female-Female'])",
   "outputs": [],
   "execution_count": null
  },
  {
   "metadata": {},
   "cell_type": "code",
   "source": "df.head()",
   "outputs": [],
   "execution_count": null
  },
  {
   "cell_type": "markdown",
   "metadata": {
    "collapsed": false,
    "jupyter": {
     "outputs_hidden": false
    }
   },
   "source": "### Model 1: Linguistic Adaptation as Linear Change Over Time"
  },
  {
   "cell_type": "code",
   "metadata": {
    "collapsed": false,
    "jupyter": {
     "outputs_hidden": false
    }
   },
   "source": [
    "##########################################\n",
    "## Main model\n",
    "##########################################\n",
    "# model = \"Hxy ~ nx + ny + time_delta + x_comment_ups + y_comment_ups +  cc_is_parent + cc_is_sibling + cc_is_child + (1|x_user) + (1|y_user) + (1|y_submission_id)\"\n",
    "model = \"Hxy ~ nx + ny + mixed_gender + transition +  (1|speaker) + (1|speaker2) + (2|dyad)\"\n",
    "\n",
    "##########################################\n",
    "\n",
    "start = dt.now()\n",
    "md = smf.mixedlm(model, data=df, groups=df.index)\n",
    "mdf = md.fit()\n",
    "print('completed in:', dt.now()-start)"
   ],
   "outputs": [],
   "execution_count": null
  },
  {
   "cell_type": "markdown",
   "metadata": {
    "collapsed": false,
    "jupyter": {
     "outputs_hidden": false
    }
   },
   "source": [
    "Reporting on the model outputs in a dataframe"
   ]
  },
  {
   "cell_type": "code",
   "metadata": {
    "collapsed": false,
    "jupyter": {
     "outputs_hidden": false
    }
   },
   "source": [
    "reporting = pd.DataFrame()\n",
    "reporting['coefs'] = mdf.params\n",
    "reporting['stat'] = mdf.tvalues\n",
    "reporting['p'] = mdf.pvalues\n",
    "reporting['CI[.025, .975]'] = ['[{}]'.format(', '.join([np.format_float_scientific(x, precision=2) for x in ci.tolist()])) for ci in mdf.conf_int().values]\n",
    "\n",
    "reporting['coefs'] = reporting['coefs'].apply(lambda x: np.format_float_scientific(x, precision=2))\n",
    "reporting['stat'] = reporting['stat'].apply(lambda x: np.format_float_scientific(x, precision=2))\n",
    "reporting['p'] = reporting['p'].apply(lambda x: np.format_float_scientific(x, precision=2))\n",
    "\n",
    "reporting.head(100)"
   ],
   "outputs": [],
   "execution_count": null
  },
  {
   "cell_type": "code",
   "metadata": {
    "collapsed": false,
    "jupyter": {
     "outputs_hidden": false
    }
   },
   "source": [
    "model_version = 'final'\n",
    "REPORT_NAME_ = REPORT_NAME.format(model_version)\n",
    "\n",
    "reporting.to_csv(REPORT_NAME_, encoding='utf-8')\n",
    "\n",
    "reporting['Var'] = reporting.index.values\n",
    "with open(REPORT_NAME_.replace('.csv', '.txt'), 'w') as f:\n",
    "    txt =  reporting[['Var', 'coefs', 'stat', 'p']].loc[:reporting.index[-2]].to_latex(index=False).replace('\\\\toprule', '\\\\hline').replace('\\\\midrule', '\\\\hline\\\\hline').replace('\\\\bottomrule', '\\\\hline')\n",
    "    f.write(txt)\n",
    "    f.close()"
   ],
   "outputs": [],
   "execution_count": null
  },
  {
   "metadata": {},
   "cell_type": "markdown",
   "source": "saving model performance metrics"
  },
  {
   "metadata": {},
   "cell_type": "code",
   "source": [
    "# individual differences vs. mixed-gender effects\n",
    "test_matrix = np.zeros(shape=(len(mdf.params)))\n",
    "sel = np.array([\n",
    "    ('mixed_gender' in k)\n",
    "    for k in mdf.params.keys()\n",
    "])\n",
    "test_matrix[sel] = 2\n",
    "\n",
    "sel = np.array([\n",
    "    ('speaker' in k)\n",
    "    for k in mdf.params.keys()\n",
    "])\n",
    "test_matrix[sel] = -1\n",
    "\n",
    "mdf.f_test(test_matrix)"
   ],
   "outputs": [],
   "execution_count": null
  },
  {
   "cell_type": "code",
   "metadata": {},
   "source": [],
   "outputs": [],
   "execution_count": null
  }
 ],
 "metadata": {
  "kernelspec": {
   "display_name": "Python 3 (ipykernel)",
   "language": "python",
   "name": "python3"
  },
  "language_info": {
   "codemirror_mode": {
    "name": "ipython",
    "version": 3
   },
   "file_extension": ".py",
   "mimetype": "text/x-python",
   "name": "python",
   "nbconvert_exporter": "python",
   "pygments_lexer": "ipython3",
   "version": "3.9.0"
  }
 },
 "nbformat": 4,
 "nbformat_minor": 4
}
